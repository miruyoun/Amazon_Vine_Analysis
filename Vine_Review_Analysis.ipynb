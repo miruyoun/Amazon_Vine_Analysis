{
 "cells": [
  {
   "cell_type": "code",
   "execution_count": 1,
   "id": "a3ff4059",
   "metadata": {},
   "outputs": [],
   "source": [
    "# Import libraries\n",
    "import pandas as pd"
   ]
  },
  {
   "cell_type": "code",
   "execution_count": 3,
   "id": "f2c71ccc",
   "metadata": {},
   "outputs": [],
   "source": [
    "# Load in vine csv\n",
    "vine = pd.read_csv('vine_table.csv')"
   ]
  },
  {
   "cell_type": "code",
   "execution_count": 25,
   "id": "a6942351",
   "metadata": {},
   "outputs": [],
   "source": [
    "# Total votes over 20\n",
    "vine_1 = vine[vine['total_votes'] >= 20]"
   ]
  },
  {
   "cell_type": "code",
   "execution_count": 26,
   "id": "1a194e78",
   "metadata": {},
   "outputs": [],
   "source": [
    "# Vine proportion over 0.5\n",
    "vine_2 = vine_1[vine_1['helpful_votes'] / vine_1['total_votes'] >= .5]"
   ]
  },
  {
   "cell_type": "code",
   "execution_count": 33,
   "id": "8e252c62",
   "metadata": {},
   "outputs": [],
   "source": [
    "# Vine = Y\n",
    "vine_Y = vine_2[vine_2['vine'] == 'Y']"
   ]
  },
  {
   "cell_type": "code",
   "execution_count": 34,
   "id": "063d7770",
   "metadata": {},
   "outputs": [],
   "source": [
    "# Vine = N\n",
    "vine_N = vine_2[vine_2['vine'] == 'N']"
   ]
  },
  {
   "cell_type": "code",
   "execution_count": 38,
   "id": "af728bb3",
   "metadata": {},
   "outputs": [
    {
     "data": {
      "text/plain": [
       "94"
      ]
     },
     "execution_count": 38,
     "metadata": {},
     "output_type": "execute_result"
    }
   ],
   "source": [
    "# Total vine reviews\n",
    "total_Y = len(vine_Y)\n",
    "total_Y"
   ]
  },
  {
   "cell_type": "code",
   "execution_count": 44,
   "id": "4fa97e7f",
   "metadata": {},
   "outputs": [
    {
     "data": {
      "text/plain": [
       "48"
      ]
     },
     "execution_count": 44,
     "metadata": {},
     "output_type": "execute_result"
    }
   ],
   "source": [
    "# Number of 5-star vine reviews\n",
    "five_Y = len(vine_Y[vine_Y['star_rating'] == 5])\n",
    "five_Y"
   ]
  },
  {
   "cell_type": "code",
   "execution_count": 49,
   "id": "dec0a474",
   "metadata": {},
   "outputs": [
    {
     "data": {
      "text/plain": [
       "51.06382978723404"
      ]
     },
     "execution_count": 49,
     "metadata": {},
     "output_type": "execute_result"
    }
   ],
   "source": [
    "# Percentage of 5-star vine reviews\n",
    "percentage_Y = five_Y / total_Y * 100\n",
    "percentage_Y"
   ]
  },
  {
   "cell_type": "code",
   "execution_count": 40,
   "id": "da695a4b",
   "metadata": {},
   "outputs": [
    {
     "data": {
      "text/plain": [
       "40471"
      ]
     },
     "execution_count": 40,
     "metadata": {},
     "output_type": "execute_result"
    }
   ],
   "source": [
    "# Total non-vine reviews\n",
    "total_N = len(vine_N)\n",
    "total_N"
   ]
  },
  {
   "cell_type": "code",
   "execution_count": 46,
   "id": "0e9c319e",
   "metadata": {},
   "outputs": [
    {
     "data": {
      "text/plain": [
       "15663"
      ]
     },
     "execution_count": 46,
     "metadata": {},
     "output_type": "execute_result"
    }
   ],
   "source": [
    "# Number of 5-star non-vine reviews\n",
    "five_N = len(vine_N[vine_N['star_rating'] == 5])\n",
    "five_N"
   ]
  },
  {
   "cell_type": "code",
   "execution_count": 50,
   "id": "b72bb44d",
   "metadata": {},
   "outputs": [
    {
     "data": {
      "text/plain": [
       "38.701786464381904"
      ]
     },
     "execution_count": 50,
     "metadata": {},
     "output_type": "execute_result"
    }
   ],
   "source": [
    "# Percentage of 5-star non-vine reviews\n",
    "percentage_N = five_N / total_N * 100\n",
    "percentage_N"
   ]
  }
 ],
 "metadata": {
  "kernelspec": {
   "display_name": "PythonData",
   "language": "python",
   "name": "pythondata"
  },
  "language_info": {
   "codemirror_mode": {
    "name": "ipython",
    "version": 3
   },
   "file_extension": ".py",
   "mimetype": "text/x-python",
   "name": "python",
   "nbconvert_exporter": "python",
   "pygments_lexer": "ipython3",
   "version": "3.7.13"
  }
 },
 "nbformat": 4,
 "nbformat_minor": 5
}
